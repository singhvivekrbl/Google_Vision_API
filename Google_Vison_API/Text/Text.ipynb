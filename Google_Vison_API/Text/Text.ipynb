{
 "cells": [
  {
   "cell_type": "code",
   "execution_count": null,
   "metadata": {},
   "outputs": [],
   "source": [
    "from google.cloud import vision\n",
    "\n",
    "import os\n",
    "os.environ[\"GOOGLE_APPLICATION_CREDENTIALS\"]=r\"YOUR-JSON-FILE.json\""
   ]
  },
  {
   "cell_type": "code",
   "execution_count": null,
   "metadata": {},
   "outputs": [],
   "source": [
    "client = vision.ImageAnnotatorClient()\n",
    "client"
   ]
  },
  {
   "cell_type": "code",
   "execution_count": null,
   "metadata": {},
   "outputs": [],
   "source": [
    "#path = r\"C:\\Users\\vivek.s\\Desktop\\Image.jpg\""
   ]
  },
  {
   "cell_type": "code",
   "execution_count": null,
   "metadata": {},
   "outputs": [],
   "source": [
    "#import io\n",
    "#with io.open(path ,'rb') as image_file:\n",
    "#    content = image_file.read()"
   ]
  },
  {
   "cell_type": "code",
   "execution_count": null,
   "metadata": {},
   "outputs": [],
   "source": [
    "#image = vision.types.Image(content=content) "
   ]
  },
  {
   "cell_type": "code",
   "execution_count": null,
   "metadata": {},
   "outputs": [],
   "source": [
    "#response = client.image_properties(image=image)\n",
    "#response"
   ]
  },
  {
   "cell_type": "code",
   "execution_count": null,
   "metadata": {},
   "outputs": [],
   "source": []
  },
  {
   "cell_type": "markdown",
   "metadata": {},
   "source": [
    "## Text From Images"
   ]
  },
  {
   "cell_type": "code",
   "execution_count": null,
   "metadata": {},
   "outputs": [],
   "source": [
    "import os\n",
    "import io\n",
    "import pandas as pd\n",
    "folder_path = \"C:\\\\Users\\\\vivek.s\\\\Desktop\\\\Image5\"\n",
    "\n",
    "image_path = list(map(lambda x: os.path.join(folder_path, x), os.listdir(folder_path)))\n",
    "\n",
    "image_path\n",
    "\n",
    "index = list(map(lambda x: x.split('\\\\')[-1].split('.')[0], image_path))\n",
    "\n",
    "# Text dectection from image\n",
    "\n",
    "def detect_text(path):\n",
    "    \"\"\"Detects text in the file.\"\"\"\n",
    "    from google.cloud import vision\n",
    "    client = vision.ImageAnnotatorClient()\n",
    "    print (path)\n",
    "    with io.open(path, 'rb') as image_file:\n",
    "        content = image_file.read()\n",
    "\n",
    "    image = vision.types.Image(content=content)\n",
    "\n",
    "    response = client.text_detection(image=image)\n",
    "    texts = response.text_annotations\n",
    "    return texts\n"
   ]
  },
  {
   "cell_type": "code",
   "execution_count": null,
   "metadata": {},
   "outputs": [],
   "source": [
    "data = [] \n",
    "  \n",
    "# Create the pandas DataFrame \n",
    "df1 = pd.DataFrame(columns = ['image_name','locale', 'description']) \n",
    "  \n",
    "# print dataframe. \n",
    "df1"
   ]
  },
  {
   "cell_type": "code",
   "execution_count": null,
   "metadata": {},
   "outputs": [],
   "source": [
    "#text_dataframe =  pd.DataFrame(columns = ['locale', 'description']) \n",
    "#text_dataframe"
   ]
  },
  {
   "cell_type": "code",
   "execution_count": null,
   "metadata": {},
   "outputs": [],
   "source": [
    "#for variable in image_path:\n",
    "#    a = detect_text(variable)\n",
    "#    localle = a[0].locale\n",
    "#    desc = a[0].description\n",
    "#    df2 = pd.DataFrame(data = [[localle,desc]] , columns = ['locale','description'])\n",
    "#    text_dataframe = text_dataframe.append(df2)\n",
    "#\n",
    "#text_dataframe"
   ]
  },
  {
   "cell_type": "code",
   "execution_count": null,
   "metadata": {},
   "outputs": [],
   "source": [
    "for variable in image_path:\n",
    "    a = detect_text(variable)\n",
    "    localle = a[0].locale\n",
    "    desc = a[0].description\n",
    "    creative_name = variable.split(\"\\\\\")[-1]\n",
    "    df2 = pd.DataFrame(data = [[creative_name,localle,desc]] , columns = ['image_name','locale','description'])\n",
    "    df1 = df1.append(df2)\n",
    "\n",
    "df1"
   ]
  },
  {
   "cell_type": "code",
   "execution_count": null,
   "metadata": {},
   "outputs": [],
   "source": [
    "df1.to_csv('./text5.csv')"
   ]
  },
  {
   "cell_type": "code",
   "execution_count": null,
   "metadata": {},
   "outputs": [],
   "source": []
  }
 ],
 "metadata": {
  "kernelspec": {
   "display_name": "Python 3",
   "language": "python",
   "name": "python3"
  },
  "language_info": {
   "codemirror_mode": {
    "name": "ipython",
    "version": 3
   },
   "file_extension": ".py",
   "mimetype": "text/x-python",
   "name": "python",
   "nbconvert_exporter": "python",
   "pygments_lexer": "ipython3",
   "version": "3.7.1"
  }
 },
 "nbformat": 4,
 "nbformat_minor": 2
}
